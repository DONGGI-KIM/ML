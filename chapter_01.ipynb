{
  "nbformat": 4,
  "nbformat_minor": 0,
  "metadata": {
    "colab": {
      "name": "chapter 01.ipynb",
      "provenance": [],
      "private_outputs": true,
      "collapsed_sections": [],
      "authorship_tag": "ABX9TyPiJxPe0FLnzhnIvdeu0jSO",
      "include_colab_link": true
    },
    "kernelspec": {
      "name": "python3",
      "display_name": "Python 3"
    }
  },
  "cells": [
    {
      "cell_type": "markdown",
      "metadata": {
        "id": "view-in-github",
        "colab_type": "text"
      },
      "source": [
        "<a href=\"https://colab.research.google.com/github/DONGGI-KIM/ML/blob/main/chapter_01.ipynb\" target=\"_parent\"><img src=\"https://colab.research.google.com/assets/colab-badge.svg\" alt=\"Open In Colab\"/></a>"
      ]
    },
    {
      "cell_type": "code",
      "metadata": {
        "id": "tD3g_ONTP68J"
      },
      "source": [
        "import numpy as np #numpy 라이브러리를 np로 호출한다."
      ],
      "execution_count": null,
      "outputs": []
    },
    {
      "cell_type": "code",
      "metadata": {
        "id": "AqUGjms2W-8B"
      },
      "source": [
        "array1 = np.array([1,2,3]) #[] 뿐이여서 1차원임 \n",
        "array2 = np.array([[1,2,3],\n",
        "                   [2,3,4]]) #[[]] = 2차원\n",
        "array3 = np.array([[1,2,3]]) # [[]] = 2차원 #위에것과 데이터의 개수는 같지만, 차원이 다름 꼭 기억할것!\n",
        "\n",
        "print('array1 type:',type(array1)) #ndarray = 다차원 배열 형성 및 행렬 연산 가능\n",
        "print('array1 shpae:',array1.shape)\n",
        "print('array2 type:',type(array2))\n",
        "print('array2 shpae:',array2.shape)\n",
        "print('array3 type:',type(array3))\n",
        "print('array3 shpae:',array3.shape)"
      ],
      "execution_count": null,
      "outputs": []
    },
    {
      "cell_type": "code",
      "metadata": {
        "id": "KhWx5A45Zjh8"
      },
      "source": [
        "#ndim을 통해 차원확인이 가능하다.\n",
        "print('array1 : {}차원 , array2 : {}차원 , array3 : {}차원'.format(array1.ndim,array2.ndim,array3.ndim))"
      ],
      "execution_count": null,
      "outputs": []
    },
    {
      "cell_type": "markdown",
      "metadata": {
        "id": "UIshfis9al2T"
      },
      "source": [
        "##ndarray의 데이터 타입\n",
        "* int, unsigned int, float, complex 제공함\n",
        "* 같은 데이터 타입만 연산가능\n",
        "* 한 개의 ndarray 객체 안에 int float 함께있을 수 없음.\n",
        "* .dtype 으로 확인함."
      ]
    },
    {
      "cell_type": "code",
      "metadata": {
        "id": "YUH0o8KTaR6C"
      },
      "source": [
        "list1 = [1,2,3]\n",
        "print(type(list1))\n",
        "array1 = np.array(list1)\n",
        "print(type(array1)) #list가 아닌 ndarray type 엄연히 list와 다르다.\n",
        "print(array1, array1.dtype) #data type이란 뜻"
      ],
      "execution_count": null,
      "outputs": []
    },
    {
      "cell_type": "code",
      "metadata": {
        "id": "wIPaMsMcbt6U"
      },
      "source": [
        "#같은 데이터만 존재하게 된다. 확인해 보자.\n",
        "list2 = [1,2,'test'] #int 와 str 둘다 존재\n",
        "array2 = np.array(list2)\n",
        "print(array2, array2.dtype) #유니코드 문자열로 변경됨.\n",
        "\n",
        "list3 = [1,2,3.0]\n",
        "array3 = np.array(list3)\n",
        "print(array3, array3.dtype)"
      ],
      "execution_count": null,
      "outputs": []
    },
    {
      "cell_type": "code",
      "metadata": {
        "id": "C4nkd9YZcMCq"
      },
      "source": [
        "#.astype() 매소드를 이용해 type을 바꿀 수 있다. 대용량일 경우 필요함\n",
        "array_int = np.array([1,2,3])\n",
        "array_float = array_int.astype('float64')\n",
        "print(array_float, array_float.dtype) # 각 data 뒤에 . 이 붙음 float이라서"
      ],
      "execution_count": null,
      "outputs": []
    },
    {
      "cell_type": "code",
      "metadata": {
        "id": "huxYTgYrdGv8"
      },
      "source": [
        "array_int1 = array_float.astype('int32')\n",
        "print(array_int1, array_int1.dtype)"
      ],
      "execution_count": null,
      "outputs": []
    },
    {
      "cell_type": "code",
      "metadata": {
        "id": "-ZZI_utpdR1x"
      },
      "source": [
        "array_float1 = np.array([1.1,2.1,3.1])\n",
        "array_int2 = array_float1.astype('int32')\n",
        "print(array_int2, array_int2.dtype)"
      ],
      "execution_count": null,
      "outputs": []
    },
    {
      "cell_type": "markdown",
      "metadata": {
        "id": "k3GJGYOcdp2i"
      },
      "source": [
        "##ndarray 편리하게 사용법 : arange, zeros, ones\n",
        "* 테스트용으로 만들거나 대규모의 데이터를 일괄적으로 초기화해야 할 경우에 사용된다.\n",
        "* arange = range 와 똑같다고 생각하면 쉽다. (start, stop, step)\n",
        "* zeros(shape, dtype='float64') shape 을 정해주면 다 0으로 뽑은 dtype안정하면 float 64가 default 값으로 나옴\n",
        "* ones() 는 zeros와 같다. 다 1로 나올 뿐"
      ]
    },
    {
      "cell_type": "code",
      "metadata": {
        "id": "F4cFQYkedfsb"
      },
      "source": [
        "sequence_array = np.arange(10)\n",
        "print(sequence_array)\n",
        "print(sequence_array.dtype, sequence_array.shape)"
      ],
      "execution_count": null,
      "outputs": []
    },
    {
      "cell_type": "code",
      "metadata": {
        "id": "oip6xUeae5-7"
      },
      "source": [
        "test_array = np.arange(2,10,3) #range와 같다.\n",
        "print(test_array, test_array.shape)"
      ],
      "execution_count": null,
      "outputs": []
    },
    {
      "cell_type": "code",
      "metadata": {
        "id": "OzZgUa0NfWFJ"
      },
      "source": [
        "zero_array = np.zeros((3,2),dtype='int32')\n",
        "print(zero_array)\n",
        "print(zero_array.dtype, zero_array.shape)"
      ],
      "execution_count": null,
      "outputs": []
    },
    {
      "cell_type": "code",
      "metadata": {
        "id": "TcoFGKkLfq3K"
      },
      "source": [
        "one_array = np.ones((3,2)) #default dtype은 float이다.\n",
        "print(one_array)\n",
        "print(one_array.dtype, one_array.shape)"
      ],
      "execution_count": null,
      "outputs": []
    },
    {
      "cell_type": "markdown",
      "metadata": {
        "id": "qgnRFlpsf5bC"
      },
      "source": [
        "##차원과 크기를 바꾸고 싶다면 reshape\n",
        "* -1 을 사용하면 raw column 중 하나만 정하면 알아서 해준다."
      ]
    },
    {
      "cell_type": "code",
      "metadata": {
        "id": "nZzo0F-tfzbh"
      },
      "source": [
        "array1 = np.arange(12)\n",
        "print(array1)\n",
        "print(array1.ndim)"
      ],
      "execution_count": null,
      "outputs": []
    },
    {
      "cell_type": "code",
      "metadata": {
        "id": "hi4tbYEghPf6"
      },
      "source": [
        "array2 = array1.reshape(3,4)\n",
        "print(array2)\n",
        "print(array2.ndim)"
      ],
      "execution_count": null,
      "outputs": []
    },
    {
      "cell_type": "code",
      "metadata": {
        "id": "YUq_XcoqhaA5"
      },
      "source": [
        "array3 = array1.reshape(4,3)\n",
        "print(array3)\n",
        "print(array3.ndim)"
      ],
      "execution_count": null,
      "outputs": []
    },
    {
      "cell_type": "code",
      "metadata": {
        "id": "T1gCOoGFhgga"
      },
      "source": [
        "array4 = array1.reshape(2,3,2) #3차원으로도 확장 가능하다. 대신 data개수는 맞아야함\n",
        "print(array4)\n",
        "print(array4.ndim)"
      ],
      "execution_count": null,
      "outputs": []
    },
    {
      "cell_type": "code",
      "metadata": {
        "id": "QyTII1NmhnzZ"
      },
      "source": [
        "# -1을 활용해 보자.\n",
        "array5 = array1.reshape(-1,4)\n",
        "print(array5)\n",
        "print(array5.shape)"
      ],
      "execution_count": null,
      "outputs": []
    },
    {
      "cell_type": "code",
      "metadata": {
        "id": "4WBwLhOgh7OT"
      },
      "source": [
        "array6 = array1.reshape(4,-1)\n",
        "print(array6)\n",
        "print(array6.shape)"
      ],
      "execution_count": null,
      "outputs": []
    },
    {
      "cell_type": "code",
      "metadata": {
        "id": "4lNTgJULiBgT"
      },
      "source": [
        "array7 = array1.reshape(-1,2,2) #하나만 모른다면 다 알아서 계산해준다.\n",
        "print(array7)\n",
        "print(array7.shape)"
      ],
      "execution_count": null,
      "outputs": []
    },
    {
      "cell_type": "code",
      "metadata": {
        "id": "V6IxDw-niISx"
      },
      "source": [
        "#호환가능하게 설정해야함 아니면 error\n",
        "array8 = array1.reshpae(5,-1)\n",
        "print(array8) "
      ],
      "execution_count": null,
      "outputs": []
    },
    {
      "cell_type": "code",
      "metadata": {
        "id": "_a_p-8WTitl8"
      },
      "source": [
        "#.tolist() 메소드를 이횽해 ndarray를 list로 바꿀 수 있다.\n",
        "list_7 = array7.tolist()\n",
        "print(list_7)\n",
        "print(type(list_7))"
      ],
      "execution_count": null,
      "outputs": []
    },
    {
      "cell_type": "markdown",
      "metadata": {
        "id": "pT8mLyB1iiXB"
      },
      "source": [
        "##numpy indexing\n",
        "* 특정 데이터 추출\n",
        "* 슬라이싱\n",
        "* 팬시 인덱싱\n",
        "* 불린 인덱싱\n",
        "\n"
      ]
    },
    {
      "cell_type": "code",
      "metadata": {
        "id": "7WvcYrJ9ifzJ"
      },
      "source": [
        "#단일추출\n",
        "array1 = np.arange(1,10) #1부터 9까지\n",
        "print('array1:',array1)\n",
        "value = array1[2] #index는 0부터라서 3번째것을 뜻함\n",
        "print('value:', array1[2])\n",
        "print(type(value)) #int일 것임"
      ],
      "execution_count": null,
      "outputs": []
    },
    {
      "cell_type": "code",
      "metadata": {
        "id": "fQGcIrbDkUer"
      },
      "source": [
        "# 음수 인덱싱에 관하여\n",
        "#-1 은 맨끝이다.\n",
        "print('맨끝:',array1[-1], '맨 끝에서 두번째:',array1[-2])"
      ],
      "execution_count": null,
      "outputs": []
    },
    {
      "cell_type": "code",
      "metadata": {
        "id": "rSCWIVrik2wg"
      },
      "source": [
        "#다차원에서도 가능하다.\n",
        "#[a,b] # a = row index = axis0 , b = column index = axis1\n",
        "#나중에 3차원도 또같다 axis2 가 생길뿐 축의 방향을 이해하고 있자.\n",
        "array2 = array1.reshape(3,3)\n",
        "print(array2)\n",
        "\n",
        "print('(axis0 =0 , axis1 =0) 가리키는 값:', array2[0,0])\n",
        "print('(axis0 =0 , axis1 =1) 가리키는 값:', array2[0,1])\n",
        "print('(axis0 =1 , axis1 =0) 가리키는 값:', array2[1,0])\n",
        "print('(axis0 =2 , axis1 =2) 가리키는 값:', array2[2,2])"
      ],
      "execution_count": null,
      "outputs": []
    },
    {
      "cell_type": "code",
      "metadata": {
        "id": "JfV8ohFIny-r"
      },
      "source": [
        "#슬라이싱\n",
        "array1 = np.arange(1,10)\n",
        "array2 = array1[0:3]\n",
        "print(array2)\n",
        "print(array2.ndim)"
      ],
      "execution_count": null,
      "outputs": []
    },
    {
      "cell_type": "code",
      "metadata": {
        "id": "hDd3itDrotHY"
      },
      "source": [
        "#2차원 확장\n",
        "array3 = array1.reshape(3,3)\n",
        "print('array3:\\n',array3)"
      ],
      "execution_count": null,
      "outputs": []
    },
    {
      "cell_type": "code",
      "metadata": {
        "id": "MwKIU3mGpD6f"
      },
      "source": [
        "#row column 과 슬라이싱과 index 지정\n",
        "print('array3[0:2,0:2] :\\n', array3[0:2,0:2])\n",
        "print('array3[1:3,0:3] :\\n', array3[1:3,0:3])\n",
        "print('array3[1:3,:] :\\n', array3[1:3,:]) #axis1 은 전체다\n",
        "print('array3[:,:] :\\n', array3[:,:]) #전체다\n",
        "print('array3[:2,1:] :\\n', array3[:2,1:]) #처음부터 1까지 , 1부터 끝까지\n",
        "print('array3[:2,0] :\\n', array3[:2,0]) #index 지정을해서 특정부분 뽑을 수 있음 1차원으로 나올것임 \n",
        "print('array3[:2,0:1] :\\n', array3[:2,0:1]) #index말고 똑같이 뽑아볼것임 2차원으로 나오게 #vector 느낌 아닐가..\n",
        "print(array3.reshape(9,1))\n",
        "print(array3.reshape(9,))"
      ],
      "execution_count": null,
      "outputs": []
    },
    {
      "cell_type": "code",
      "metadata": {
        "id": "xJGEDH_uqCjx"
      },
      "source": [
        "#팬시 인덱싱\n",
        "#리스트나 ndarray로 인덱스 집합을 지정해서 특정 위치 인덱스에 해당하는 ndrray를 반환하는 기법\n",
        "array1 = np.arange(1,10).reshape(3,3)\n",
        "array2 = array1[[0,1],2] #axis0 0과 1 axis1 2지정 #역시 index지정이므로 1차원으로 표현된다.\n",
        "array3 = array1[[0,1],0:2] \n",
        "array4 = array1[[0,2]] #슬라이싱과 가장 큰 차이점이다. #내가 원하는 파트파트를 볼수가 있는게 가장 큰 장점\n",
        "\n",
        "print('array1:\\n',array1)\n",
        "print('array2:\\n',array2)\n",
        "print('array3:\\n',array3)\n",
        "print('array4:\\n',array4)"
      ],
      "execution_count": null,
      "outputs": []
    },
    {
      "cell_type": "markdown",
      "metadata": {
        "id": "ZQmM0lMIutwv"
      },
      "source": [
        "* 불린 인덱싱 step\n",
        "* 1 필터링 조건 []에 기재\n",
        "* 2 True 값에 해당하는 인덱스 값만 저장\n",
        "* 3 인덱스 데이터 세트로 ndarray 조회"
      ]
    },
    {
      "cell_type": "code",
      "metadata": {
        "id": "M97weIkdtcGq"
      },
      "source": [
        "array1 = np.arange(1,10)\n",
        "array2 = array1[array1 > 5]\n",
        "print(array2)"
      ],
      "execution_count": null,
      "outputs": []
    },
    {
      "cell_type": "code",
      "metadata": {
        "id": "cclxjwRlvV4X"
      },
      "source": [
        "array1 > 5 #모든값들을 False True로 볼수 있다."
      ],
      "execution_count": null,
      "outputs": []
    },
    {
      "cell_type": "code",
      "metadata": {
        "id": "dnB_9T-3vX7d"
      },
      "source": [
        "#2 차원에서는 어떻게 될까.\n",
        "array3 = array1.reshape(3,3)\n",
        "array4 = array3[array3 >5]\n",
        "print(array3)\n",
        "print(array4) #차원이 달라도 뽑긴하지만 결국 1차원으로 정리해서 뽑는다. 음... pandas에서 더 다룰수 있을듯?"
      ],
      "execution_count": null,
      "outputs": []
    },
    {
      "cell_type": "markdown",
      "metadata": {
        "id": "65jwjLa4v_MY"
      },
      "source": [
        "## 행렬의 정렬 sort()와 argsort()\n",
        "* np.sort()\n",
        "* ndarray.sort()\n",
        "* argsort()"
      ]
    },
    {
      "cell_type": "code",
      "metadata": {
        "id": "e2xdN1kevlyF"
      },
      "source": [
        "# sort 와 sorted 차이와 같다\n",
        "# np.sort() 원본유지 #ndarray.sort() 원본 바꿈\n",
        "org_array = np.array([3,1,9,5]) \n",
        "sort_array1 = np.sort(org_array) #원본 안바뀜\n",
        "print(org_array) #안바뀜\n",
        "sort_array2 = org_array.sort() #원본 바뀜\n",
        "print(sort_array1)\n",
        "print(sort_array2) #반환값 none #원본을 호출해야함.\n",
        "print(org_array) #바뀜"
      ],
      "execution_count": null,
      "outputs": []
    },
    {
      "cell_type": "code",
      "metadata": {
        "id": "7hY4tOWqxGON"
      },
      "source": [
        "#내림차순 -1을 활용한다.\n",
        "sort_array1_desc = np.sort(org_array)[::-1]\n",
        "print(sort_array1_desc)"
      ],
      "execution_count": null,
      "outputs": []
    },
    {
      "cell_type": "code",
      "metadata": {
        "id": "zmkzuMZ_xydt"
      },
      "source": [
        "#2차원 이상에서의 정렬\n",
        "#np.sort(, axis = ) 설정으로 raw 혹은 column에 대해서 정렬할 수 있다.\n",
        "array1 = np.array([[8,5,2],[1,9,6],[7,3,4]])\n",
        "                                      \n",
        "array2 = np.sort(array1)\n",
        "print(array2) #축열 다됨. #default는 column으로 된듯?\n",
        "print(array1)"
      ],
      "execution_count": null,
      "outputs": []
    },
    {
      "cell_type": "code",
      "metadata": {
        "id": "C5KNdkiay7r_"
      },
      "source": [
        "array3 = np.sort(array1, axis = 0)\n",
        "print(array3)\n",
        "array4 = np.sort(array3, axis = 1)\n",
        "print(array4)"
      ],
      "execution_count": null,
      "outputs": []
    },
    {
      "cell_type": "markdown",
      "metadata": {
        "id": "4zSF7wZA5VNU"
      },
      "source": [
        "## 중요! argsort(-x , axis)를 해야 내림차순 가능"
      ]
    },
    {
      "cell_type": "code",
      "metadata": {
        "id": "Jpzmtqhfztft"
      },
      "source": [
        "#argsort() 정렬과함께 원본의 index 를 보여준다.\n",
        "array1 = np.array([[8,5,2],[1,9,6],[7,3,4]])\n",
        "sort_indices = np.argsort(array1, axis = 1) #column 축에대해 정렬\n",
        "print(sort_indices) \n",
        "sort_indices_desc =np.argsort(array1, axis = 1)[::-1] #그냥 뒤집기가 되어버림!\n",
        "print(sort_indices_desc)\n",
        "array4 = np.sort(array1, axis = 1)\n",
        "print(array4)\n",
        "array5 = np.sort(array1, axis = 1)[::-1] #?? 그냥 reverse 되었는데? #2차원으로는 다르게 인식하나?\n",
        "print(array5)\n",
        "array6 = np.argsort(-array1, axis =1) #- 를 붙여야 argsort에서 내림차순이 가능하다!!!!!!!\n",
        "print(array6)"
      ],
      "execution_count": null,
      "outputs": []
    },
    {
      "cell_type": "code",
      "metadata": {
        "id": "UppGJEtQ16nm"
      },
      "source": [
        "org_array = np.array([3,1,9,5]) \n",
        "a = np.argsort(org_array)\n",
        "b= np.argsort(org_array)[::-1]\n",
        "print(a)\n",
        "print(b) #이건 잘 돌아간다."
      ],
      "execution_count": null,
      "outputs": []
    },
    {
      "cell_type": "markdown",
      "metadata": {
        "id": "oYiTMZCa5vKT"
      },
      "source": [
        "## numpy argsort()활용\n",
        "* numpy는 메타데이터를 가질 수 없다. ex 학생별 점수 하면 학생 ndarray 점수 ndarray 필요\n",
        "* 점수 정렬후 argsort를 활용해 팬시 인덱스로 적용해 이름도 정렬 가능"
      ]
    },
    {
      "cell_type": "code",
      "metadata": {
        "id": "VNHQUuc44Uun"
      },
      "source": [
        "import numpy as np\n",
        "name_array = np.array(['john','mike','sarah','kate','samuel'])\n",
        "score_array = np.array([78,95,84,98,88])\n",
        "\n",
        "sort_score = np.sort(score_array)\n",
        "score_name = name_array[np.argsort(score_array)] # ndarray type의 index로 들어가진다. 팬시 인덱스가 가능해진다. [[0 2 4 1 3]]\n",
        "print(sort_score)\n",
        "print(score_name)"
      ],
      "execution_count": null,
      "outputs": []
    },
    {
      "cell_type": "markdown",
      "metadata": {
        "id": "a3QTlS2_7dXk"
      },
      "source": [
        "## 선형대수 연산 - 행렬 내적과 전치 행렬 구하기 역행렬도 구해보자!\n",
        "* 행렬 내적(행렬 곱)\n",
        "* 전치행렬 (tranpose)\n",
        "* 역행렬(inverse, square matrix 경우)"
      ]
    },
    {
      "cell_type": "code",
      "metadata": {
        "id": "BJ2DV1Iz7BK6"
      },
      "source": [
        "#행렬 곱 내적 m,n * n,a 형태여야 가능\n",
        "A = np.array([[1,2,3],\n",
        "              [4,5,6]])\n",
        "B = np.array([[7,8],\n",
        "              [9,10],\n",
        "              [11,12]])\n",
        "dot_product = np.dot(A,B)\n",
        "print(\"결과 :\\n\", dot_product)\n"
      ],
      "execution_count": null,
      "outputs": []
    },
    {
      "cell_type": "code",
      "metadata": {
        "id": "GvqBpfvQKJBC"
      },
      "source": [
        "# tranpose\n",
        "tranpose_mat = np.transpose(A)\n",
        "print(tranpose_mat)"
      ],
      "execution_count": null,
      "outputs": []
    },
    {
      "cell_type": "code",
      "metadata": {
        "id": "O6lXF61DKWLf"
      },
      "source": [
        "# inverse \n",
        "inverse_mat = np.linalg.inv(dot_product) #m,m 행렬일때 가능한것을 잊지말자\n",
        "print(inverse_mat)\n",
        "\n",
        "#normal equation을 이제 할 수 있지 않을까?"
      ],
      "execution_count": null,
      "outputs": []
    },
    {
      "cell_type": "markdown",
      "metadata": {
        "id": "8aE52XJZLStr"
      },
      "source": [
        "#pandas!!!"
      ]
    },
    {
      "cell_type": "code",
      "metadata": {
        "id": "kGeFBEIfLElf"
      },
      "source": [
        "from google.colab import drive\n",
        "drive.mount('/content/drive')"
      ],
      "execution_count": null,
      "outputs": []
    },
    {
      "cell_type": "code",
      "metadata": {
        "id": "-4zVdWMeMN-g"
      },
      "source": [
        "import pandas as pd"
      ],
      "execution_count": null,
      "outputs": []
    },
    {
      "cell_type": "code",
      "metadata": {
        "id": "92sVs2b1MbEe"
      },
      "source": [
        "titanic_df = pd.read_csv('/content/drive/My Drive/머신러닝 연습/파이썬 머신러닝 완벽 가이드/titanic_train.csv')\n",
        "titanic_df.head()"
      ],
      "execution_count": null,
      "outputs": []
    },
    {
      "cell_type": "code",
      "metadata": {
        "id": "Xgr31tvaMs73"
      },
      "source": [
        "print(type(titanic_df))"
      ],
      "execution_count": null,
      "outputs": []
    },
    {
      "cell_type": "code",
      "metadata": {
        "id": "Y0fSMiXJM2TG"
      },
      "source": [
        "#데이터가 너무 많으니 shpae을 이용해 파악을하자.\n",
        "titanic_df.shape"
      ],
      "execution_count": null,
      "outputs": []
    },
    {
      "cell_type": "code",
      "metadata": {
        "id": "xF52ChqmNAok"
      },
      "source": [
        "#raw 891 column 12\n",
        "#구체적인 정보를 보자 info() 와 describe()\n",
        "titanic_df.info()\n",
        "#총 데이터 건수, 데이터 타입, null건수를 파악가능"
      ],
      "execution_count": null,
      "outputs": []
    },
    {
      "cell_type": "code",
      "metadata": {
        "id": "1jTedNvVNO3G"
      },
      "source": [
        "titanic_df.describe()\n",
        "#숫자형만 분포수준을 확인할 수 있다. \n",
        "#count = not null 건수\n",
        "#mean 과 기본적인 5개 값 볼 수 있다.\n",
        "#범주형 값들을 코드화한 것인지 확인할 수 있다."
      ],
      "execution_count": null,
      "outputs": []
    },
    {
      "cell_type": "markdown",
      "metadata": {
        "id": "wNEf7llQPv24"
      },
      "source": [
        "## column 별로 확인하기\n",
        "* df[] 해당 column series type으로 바꿔줌\n",
        "* df[].value_counts() #column 값의 유형들을 index로 받아서 series를 만들어줌"
      ]
    },
    {
      "cell_type": "code",
      "metadata": {
        "id": "2k1aeKosNi5W"
      },
      "source": [
        "value_counts = titanic_df['Pclass'].value_counts() #series만 가지는 method\n",
        "print(value_counts)"
      ],
      "execution_count": null,
      "outputs": []
    },
    {
      "cell_type": "code",
      "metadata": {
        "id": "3o54ojOQQSca"
      },
      "source": [
        "titanic_pclass = titanic_df['Pclass']\n",
        "print(type(titanic_pclass))\n",
        "print(titanic_pclass.head())"
      ],
      "execution_count": null,
      "outputs": []
    },
    {
      "cell_type": "markdown",
      "metadata": {
        "id": "45yiLmMFQ4B4"
      },
      "source": [
        "## df list dict ndarray 상호 변환"
      ]
    },
    {
      "cell_type": "code",
      "metadata": {
        "id": "FCS3bcSXQkel"
      },
      "source": [
        "#ndarray 로 바꾸는것은 빈번하게 사용된다.\n",
        "#1차원 데이터 변경하기\n",
        "import numpy as np\n",
        "import pandas as pd\n",
        "col_name1 = ['col1']\n",
        "list1 = [1,2,3]\n",
        "array1 = np.array(list1)\n",
        "print(array1.shape)\n",
        "\n",
        "# list to df\n",
        "df_list1 = pd.DataFrame(list1, columns = col_name1) #df 는 column을 가진다 따라서 따로 지정이 필요하다.\n",
        "print(df_list1,'\\n') #1차원 list로 만들었다.\n",
        "\n",
        "# ndarray to df\n",
        "df_array1 = pd.DataFrame(array1, columns = col_name1)\n",
        "print(df_array1) #1차원 ndarray로 만들었다."
      ],
      "execution_count": null,
      "outputs": []
    },
    {
      "cell_type": "code",
      "metadata": {
        "id": "Ea_-kibRSBz7"
      },
      "source": [
        "#2차원 데이터 바꾸기\n",
        "col_name2 = ['col1','col2','col3']\n",
        "list2 = [[1,2,3],\n",
        "         [11,12,13]]\n",
        "array2 = np.array(list2)\n",
        "print(array2.shape)\n",
        "df_list2 = pd.DataFrame(list2, columns = col_name2)\n",
        "print(df_list2,'\\n') #2차원 list to df\n",
        "\n",
        "df_array2 = pd.DataFrame(array2, columns = col_name2)\n",
        "print(df_array2)"
      ],
      "execution_count": null,
      "outputs": []
    },
    {
      "cell_type": "code",
      "metadata": {
        "id": "R6WPFp25S2ts"
      },
      "source": [
        "#dict 는 key to column (key 는 str 형태) , value to data (value가 list 형태로 되야함)\n",
        "dict = {'col1': [1,11], 'col2': [2,12], 'col3' : [3,13]}\n",
        "df_dict = pd.DataFrame(dict)\n",
        "print(df_dict)"
      ],
      "execution_count": null,
      "outputs": []
    },
    {
      "cell_type": "markdown",
      "metadata": {
        "id": "eWpEVJfgURtv"
      },
      "source": [
        "* 아래는 상황별 df 만드는 법이다.\n",
        "* 바뀐게 많으니 참고로만 볼것"
      ]
    },
    {
      "cell_type": "markdown",
      "metadata": {
        "id": "RTjhnSqDUOmb"
      },
      "source": [
        "![dataframe 만드는 표.PNG](data:image/png;base64,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)"
      ]
    },
    {
      "cell_type": "markdown",
      "metadata": {
        "id": "DFtyimJXUaYn"
      },
      "source": [
        "### df to ndarray list dict"
      ]
    },
    {
      "cell_type": "code",
      "metadata": {
        "id": "dn5essRyTnM3"
      },
      "source": [
        "#.values #ndarray 로 바꿀때 자주 쓰니 꼭 기억하기\n",
        "array3 = df_dict.values\n",
        "print('df_dict.values 타입:', type(array3),'\\n')\n",
        "print(array3.shape, '\\n')\n",
        "print(array3)"
      ],
      "execution_count": null,
      "outputs": []
    },
    {
      "cell_type": "code",
      "metadata": {
        "id": "8z4dnWu1U83p"
      },
      "source": [
        "#df to list\n",
        "#df 에서 ndarray 하고 to list로 바꾸는것임 type을 두번바꿈\n",
        "list3 = df_dict.values.tolist()\n",
        "print(type(list3), '\\n')\n",
        "print(list3)"
      ],
      "execution_count": null,
      "outputs": []
    },
    {
      "cell_type": "code",
      "metadata": {
        "id": "w6XoDfH7VcDk"
      },
      "source": [
        "#df to dict\n",
        "#to_dict('list') 로 바로바꿈 todict가 아닌 to_dict임을 인지하자.\n",
        "dict3 = df_dict.to_dict('list') #value를 list type으로 받기 위함이다.\n",
        "print(type(dict3), '\\n')\n",
        "print(dict3)"
      ],
      "execution_count": null,
      "outputs": []
    },
    {
      "cell_type": "markdown",
      "metadata": {
        "id": "eB4OfMXzV1Dl"
      },
      "source": [
        "## column 새롭게 생성및 수정"
      ]
    },
    {
      "cell_type": "code",
      "metadata": {
        "id": "IcTxPDtHVyBM"
      },
      "source": [
        "#[] 를 이용해 쉽게 가능하다.\n",
        "titanic_df['Age_0'] = 0 #age_0 이라는 column을 만들고 값은 일괄적으로 0 이다.\n",
        "titanic_df.head()"
      ],
      "execution_count": null,
      "outputs": []
    },
    {
      "cell_type": "code",
      "metadata": {
        "id": "-6jsjVrjWMyt"
      },
      "source": [
        "#이를 이용해 필요한 column을 만들어낼 수 있다.\n",
        "titanic_df['Age_by_10'] = titanic_df['Age'] * 10 #다 10씩 곱한 새로운 column만듬 # scailing 할때 쓸 수 있지 않을까?\n",
        "titanic_df['Family_No'] = titanic_df['SibSp'] + titanic_df['Parch'] +1 \n",
        "#형제자매수(혹은 배우자)와 부모수(혹은 자식)와 자기자신 까지 합쳐서 총 가족수를 구한다.\n",
        "titanic_df.head()"
      ],
      "execution_count": null,
      "outputs": []
    },
    {
      "cell_type": "code",
      "metadata": {
        "id": "wvI712vtXG0z"
      },
      "source": [
        "#기존 column update\n",
        "titanic_df['Age_by_10'] = titanic_df['Age_by_10'] + 100\n",
        "titanic_df.head()"
      ],
      "execution_count": null,
      "outputs": []
    },
    {
      "cell_type": "markdown",
      "metadata": {
        "id": "FEfl_HS2Xn_M"
      },
      "source": [
        "## df 데이터 삭제\n",
        "* drop() 매소드 사용한다.\n",
        "* parameter 확인 필요. labels, axis, inplace 특히 중요"
      ]
    },
    {
      "cell_type": "code",
      "metadata": {
        "id": "zaNeMTu0XkrM"
      },
      "source": [
        "#axis = 1 #column을 drop 하겠다는 뜻.\n",
        "#labels 에서 특정 column이름 지정\n",
        "#axis = 0 은 주로 이상치 제거시 자주씀\n",
        "titanic_drop_df = titanic_df.drop('Age_0', axis = 1)\n",
        "titanic_drop_df.head()"
      ],
      "execution_count": null,
      "outputs": []
    },
    {
      "cell_type": "code",
      "metadata": {
        "id": "UjJ1__7oYZKl"
      },
      "source": [
        "#inplace를 이용해서 원본 바꿈\n",
        "titanic_df.head()#원본은 age_0 존재"
      ],
      "execution_count": null,
      "outputs": []
    },
    {
      "cell_type": "code",
      "metadata": {
        "id": "DFXSu9KFYkXz"
      },
      "source": [
        "drop_result = titanic_df.drop(['Age_0','Age_by_10','Family_No'], axis=1, inplace = True)\n",
        "# titanic_df = titanic_df.drop(inplace = True) 라하고 inplace 써버리면 객체가 날라가버림 꼭 다른 변수로 쓸것!!!!!\n",
        "titanic_df.head()"
      ],
      "execution_count": null,
      "outputs": []
    },
    {
      "cell_type": "code",
      "metadata": {
        "id": "eSXL7XQeZtBg"
      },
      "source": [
        "#row 삭제해보기\n",
        "#index는 그대로 가는것을 인지하자.\n",
        "test_df = pd.DataFrame(np.arange(1,13).reshape(6,2))\n",
        "print(\"############ \")\n",
        "print(test_df.head(3))\n",
        "print(\"############\")\n",
        "test_df.drop([0,1,2],axis=0, inplace= True) # index를 지정하면 된다.\n",
        "print(test_df.head(3))"
      ],
      "execution_count": null,
      "outputs": []
    },
    {
      "cell_type": "markdown",
      "metadata": {
        "id": "ueRdMnbEa0Fb"
      },
      "source": [
        "## index 객체\n"
      ]
    },
    {
      "cell_type": "code",
      "metadata": {
        "id": "gyD0B9sIaxVo"
      },
      "source": [
        "indexes = titanic_df.index\n",
        "print(indexes) #index를 뽑아서 1차원 array로 만들것임 #이 부분은 range를 보여줌\n",
        "print(type(indexes))\n",
        "print(indexes.values) #이렇게 써야 1차원으로 뽑아낼 수 있음\n",
        "print(type(indexes.values))"
      ],
      "execution_count": null,
      "outputs": []
    },
    {
      "cell_type": "code",
      "metadata": {
        "id": "lnH3tUzabhdP"
      },
      "source": [
        "#슬라이싱과 인덱스지정 가능하다 ndarray 라서\n",
        "print(indexes[:5].values)\n",
        "print(indexes.values[:5]) #둘다 같다.\n",
        "print(indexes[6])"
      ],
      "execution_count": null,
      "outputs": []
    },
    {
      "cell_type": "code",
      "metadata": {
        "id": "jPyaprCdcBPK"
      },
      "source": [
        "#index는 변경이 안됨!!!!!\n",
        "indexes[0] = 5 #error"
      ],
      "execution_count": null,
      "outputs": []
    },
    {
      "cell_type": "code",
      "metadata": {
        "id": "xtx9G3rIdipD"
      },
      "source": [
        "#series 연산시 index는 포함 x , index는 그저 참고용이다.\n",
        "series_fair = titanic_df['Fare']\n",
        "print(series_fair.max())\n",
        "print(series_fair.sum())\n",
        "print(sum(series_fair)) #float 끝까지 계산함\n",
        "print((series_fair+3).head(3))\n",
        "print(series_fair.head(3))"
      ],
      "execution_count": null,
      "outputs": []
    },
    {
      "cell_type": "code",
      "metadata": {
        "id": "H9gCAR9PeUb0"
      },
      "source": [
        "#reset_index() 를 이용하면 기존 index를 column으로 만들고 새로운 연속 숫자 index를 만든다.\n",
        "titanic_reset_df = titanic_df.reset_index(inplace = False)\n",
        "titanic_reset_df.head(3)"
      ],
      "execution_count": null,
      "outputs": []
    },
    {
      "cell_type": "code",
      "metadata": {
        "id": "BKItulwffY20"
      },
      "source": [
        "#value_counts() 를 이용해 index를 바꾸었을때 \n",
        "#다시 df로 바꾸면서 index새롭게 바꿀때 reset_index() 유용하다.\n",
        "value_counts = titanic_df['Pclass'].value_counts()\n",
        "print(value_counts)\n",
        "print(type(value_counts),'\\n') #series 타입의 data생성 index 바뀜\n",
        "new_value_count = value_counts.reset_index(inplace = False) \n",
        "print(new_value_count) #바뀐 index를 새로운 column으로 만들고 새로운 index 를 만들면서 dataframe type으로 바꿈\n",
        "print(type(new_value_count)) #왜냐! column 더이상 1개가 아니기 때문!!!"
      ],
      "execution_count": null,
      "outputs": []
    },
    {
      "cell_type": "markdown",
      "metadata": {
        "id": "_REDTxxig_XD"
      },
      "source": [
        "## 데이터 셀렉션 및 필터링\n",
        "* numpy [] pandas [] 차이\n",
        "* ix[]\n",
        "* iloc[]\n",
        "* loc[]"
      ]
    },
    {
      "cell_type": "markdown",
      "metadata": {
        "id": "s7pXvW5pko_Z"
      },
      "source": [
        "numpy [ ] 위치 슬라이싱  \n",
        "pandas [ ] 명칭! or index로 변환 가능한 표현식.. 살짝 dict[ ] 느낌? "
      ]
    },
    {
      "cell_type": "code",
      "metadata": {
        "id": "iLuho-0OguAM"
      },
      "source": [
        "#df[] 는 column 명만된다\n",
        "print(titanic_df[0]) #error"
      ],
      "execution_count": null,
      "outputs": []
    },
    {
      "cell_type": "code",
      "metadata": {
        "id": "rDCgsSGmlP7G"
      },
      "source": [
        "print(titanic_df[['Survived','Pclass']].head(3)) #여러칼럼 지정시 list로 넣어야함"
      ],
      "execution_count": null,
      "outputs": []
    },
    {
      "cell_type": "code",
      "metadata": {
        "id": "z3p2SkPjlbjZ"
      },
      "source": [
        "titanic_df.columns"
      ],
      "execution_count": null,
      "outputs": []
    },
    {
      "cell_type": "code",
      "metadata": {
        "id": "RIzV42YPlpLQ"
      },
      "source": [
        "#index 관련해서 셀렉션 하고 싶다면 slicing 이나 boolean을 활용해야함\n",
        "#slicing 은 index로 여김\n",
        "titanic_df[0:2] #좋지 않음"
      ],
      "execution_count": null,
      "outputs": []
    },
    {
      "cell_type": "code",
      "metadata": {
        "id": "y8T2z2O8mEko"
      },
      "source": [
        "titanic_df[titanic_df['Pclass'] == 3].head(3) #자주쓴다 꼭 기억!!!!!!!"
      ],
      "execution_count": null,
      "outputs": []
    },
    {
      "cell_type": "code",
      "metadata": {
        "id": "WXqQ4llVmNHZ"
      },
      "source": [
        "#ix[] 사라졌다고 함 .. 왜 적어놈 ㅡㅡ\n",
        "#그래서 생긴게 loc[] , iloc[] \n",
        "#개중요!!!\n",
        "#df index 값은 명칭 기반 indexing 이라고 간주해야한다.\n",
        "\n",
        "#iloc[] 위치기반\n",
        "titanic_df.iloc[0,3]"
      ],
      "execution_count": null,
      "outputs": []
    },
    {
      "cell_type": "code",
      "metadata": {
        "id": "Eit7kVlzoXbi"
      },
      "source": [
        "#slicing 과 팬시 indexing이 지원 가능하다.\n",
        "#위치 기반이라서 index 명칭이 바뀌어도 동작함\n",
        "print(titanic_df.iloc[0:5,3])\n",
        "print(type(titanic_df.iloc[0:5,3]))\n",
        "print('\\n')\n",
        "print(titanic_df.iloc[[1,4],[3,4]])\n",
        "print(type(titanic_df.iloc[[1,4],[3,4]])) #팬시 사용   "
      ],
      "execution_count": null,
      "outputs": []
    },
    {
      "cell_type": "code",
      "metadata": {
        "id": "Dp7gx2Bgoxl_"
      },
      "source": [
        "#loc[] 명칭기반 데이터 추출\n",
        "titanic_df.loc[3,'Pclass']"
      ],
      "execution_count": null,
      "outputs": []
    },
    {
      "cell_type": "code",
      "metadata": {
        "id": "7r0IT55Tpnnz"
      },
      "source": [
        "#loc[:,] 등을 이용할때 이부분 slicing은 -1이 아님을 꼭!!!!!!!!!! 기억하자.\n",
        "titanic_df.loc[0:5, 'Sex']"
      ],
      "execution_count": null,
      "outputs": []
    },
    {
      "cell_type": "markdown",
      "metadata": {
        "id": "4m4wdyoAqXvg"
      },
      "source": [
        "### 불린 인덱싱 정말 자주사용하게 될것 \n",
        "* 내가 원하는 조건에 해당하는 데이터만 볼 수 있음"
      ]
    },
    {
      "cell_type": "code",
      "metadata": {
        "id": "zZkVk3ysqM9M"
      },
      "source": [
        "titanic_boolean = titanic_df[titanic_df['Age']>60]\n",
        "print(type(titanic_boolean))\n",
        "titanic_boolean"
      ],
      "execution_count": null,
      "outputs": []
    },
    {
      "cell_type": "code",
      "metadata": {
        "id": "uE9-o6qaq0WH"
      },
      "source": [
        "#위의 단계에서 보고 싶은 column만 뽑는법 칼럼명 지정 or loc 사용\n",
        "titanic_df[titanic_df['Age']>60][['Name','Age']].head(5) #60세 이상인 dataframe에서 특정칼럼만 지정해서 뽑아낸다."
      ],
      "execution_count": null,
      "outputs": []
    },
    {
      "cell_type": "code",
      "metadata": {
        "id": "Uc9yLvYxr359"
      },
      "source": [
        "#loc 사용 열엔 boolean을 column 엔 펜시? 명칭 사용.\n",
        "titanic_df.loc[titanic_df['Age']>60, ['Name','Age']].head(5)"
      ],
      "execution_count": null,
      "outputs": []
    },
    {
      "cell_type": "markdown",
      "metadata": {
        "id": "WDOxoxdvtKIf"
      },
      "source": [
        "* 여러개도 가능하다\n",
        "* and = &\n",
        "* or = |\n",
        "* not = ~ "
      ]
    },
    {
      "cell_type": "code",
      "metadata": {
        "id": "ZtXRFzSSsL2K"
      },
      "source": [
        "titanic_df.loc[(titanic_df['Age']>60)&(titanic_df['Pclass']==1)&(titanic_df['Sex'] != 'female'),['Age','Pclass','Sex']]"
      ],
      "execution_count": null,
      "outputs": []
    },
    {
      "cell_type": "code",
      "metadata": {
        "id": "2yauoitbtzxg"
      },
      "source": [
        "#미리 조건을 변수로 선언해서 가시성을 높이는 방법도 있다.\n",
        "cond1 = titanic_df['Age']>60\n",
        "cond2 = titanic_df['Pclass']==1\n",
        "cond3 = titanic_df['Sex'] != 'female'\n",
        "titanic_df[cond1&cond2&cond3]"
      ],
      "execution_count": null,
      "outputs": []
    },
    {
      "cell_type": "markdown",
      "metadata": {
        "id": "0F0GEaJSuTv3"
      },
      "source": [
        "## 정렬,Aggregation 함수, GroupBy 적용\n",
        "* sort_values() 주요 parameters = by , ascending, inplace  \n",
        "* by =[] 특정 column 정렬\n",
        "* ascending = True 오름차순 false면 내림차순\n",
        "* inplace 아니깐 패스"
      ]
    },
    {
      "cell_type": "code",
      "metadata": {
        "id": "qhP2ZlLquQoG"
      },
      "source": [
        "#정렬\n",
        "titanic_sorted = titanic_df.sort_values(by=['Name','Age'], ascending = True) #이름나이 오름차순으로 정렬\n",
        "titanic_sorted[['Name','Age']].head(5) #칼럼을 이름과 나이만보고 위에서 5개만 본다"
      ],
      "execution_count": null,
      "outputs": []
    },
    {
      "cell_type": "markdown",
      "metadata": {
        "id": "1UkgICB1wPKi"
      },
      "source": [
        "* aggregation\n",
        "* min(), max(), sum(), count() 가능하다."
      ]
    },
    {
      "cell_type": "code",
      "metadata": {
        "id": "dqkrAXQbv-qi"
      },
      "source": [
        "# aggregation\n",
        "titanic_df.count()\n",
        "print(type(titanic_df.count()))\n",
        "print(titanic_df.count())"
      ],
      "execution_count": null,
      "outputs": []
    },
    {
      "cell_type": "code",
      "metadata": {
        "id": "73iLt1hUwic3"
      },
      "source": [
        "a = titanic_df.count()\n",
        "a['Pclass'] #series type에 column 지정 가능하다."
      ],
      "execution_count": null,
      "outputs": []
    },
    {
      "cell_type": "code",
      "metadata": {
        "id": "bgl3pXYuxgn3"
      },
      "source": [
        "a[['Pclass','Age']]"
      ],
      "execution_count": null,
      "outputs": []
    },
    {
      "cell_type": "code",
      "metadata": {
        "id": "-WTw5kPuxptS"
      },
      "source": [
        "a[0] #다된다! #series는 둘다 가능하다!!!!!!!!!!"
      ],
      "execution_count": null,
      "outputs": []
    },
    {
      "cell_type": "code",
      "metadata": {
        "id": "HkfYv51bxrGd"
      },
      "source": [
        "titanic_df[0] #df는 안되는데!"
      ],
      "execution_count": null,
      "outputs": []
    },
    {
      "cell_type": "code",
      "metadata": {
        "id": "Yo58ox5Uxv6d"
      },
      "source": [
        "#특정칼럼에만 aggregation 적용 = column 추출후 하면됨\n",
        "titanic_df[['Age','Fare']].mean()"
      ],
      "execution_count": null,
      "outputs": []
    },
    {
      "cell_type": "markdown",
      "metadata": {
        "id": "Q8qH_ioSyIUe"
      },
      "source": [
        "* groupby()\n",
        "* index를 바꿀 수 있다\n",
        "* by =[ ] 하면 칼럼 기준으로 분류하여 index를 만든다."
      ]
    },
    {
      "cell_type": "code",
      "metadata": {
        "id": "ENE21KU_yHDa"
      },
      "source": [
        "# groupby()\n",
        "titanic_groupby = titanic_df.groupby(by = 'Pclass')\n",
        "print(type(titanic_groupby))\n",
        "print(titanic_groupby) #출력이 안됨 aggregation을 이용해 시각화 가능"
      ],
      "execution_count": null,
      "outputs": []
    },
    {
      "cell_type": "code",
      "metadata": {
        "id": "_gJHLL1lzgKC"
      },
      "source": [
        "titanic_groupby = titanic_df.groupby(by = 'Pclass').count() #결과 보면 안다.\n",
        "titanic_groupby"
      ],
      "execution_count": null,
      "outputs": []
    },
    {
      "cell_type": "code",
      "metadata": {
        "id": "IsCF4lewzyZH"
      },
      "source": [
        "titanic_groupby = titanic_df.groupby(by = 'Pclass')[['PassengerId','Survived']].count()\n",
        "titanic_groupby"
      ],
      "execution_count": null,
      "outputs": []
    },
    {
      "cell_type": "code",
      "metadata": {
        "id": "vK9zI5n40Cad"
      },
      "source": [
        "#응용\n",
        "#selct max(age) min(age) from titanic_table groupby Pclass 를 코딩화 해보자\n",
        "#index 는 pclass 분류고 min max 가 column이 되면 값들은 age cloumn에서 따온다\n",
        "#agg() 기억!!!!!!!!!!\n",
        "titanic_df.groupby(by = 'Pclass')['Age'].agg([max,min]) #list형식으로 쓰는것을 잊지말자."
      ],
      "execution_count": null,
      "outputs": []
    },
    {
      "cell_type": "code",
      "metadata": {
        "id": "Pqk_Wez403A4"
      },
      "source": [
        "#여러칼럼이 각자 다른 aggregation 함수를 활요하려면 어떻게 해야할까?\n",
        "#agg 와 dict 형태로 활용해야 한다.\n",
        "agg_format = {'Age':'max','SibSp':'sum','Fare':'mean'}\n",
        "titanic_df.groupby(by = 'Pclass').agg(agg_format)"
      ],
      "execution_count": null,
      "outputs": []
    },
    {
      "cell_type": "markdown",
      "metadata": {
        "id": "ZRxj0Dnw1kFl"
      },
      "source": [
        "## 결손데이터 처리하기\n",
        "* isna() 각 데이터가 nan 이면 True\n",
        "* fillna() 결손데이터를 다른 값으로 처리할 수 있다."
      ]
    },
    {
      "cell_type": "code",
      "metadata": {
        "id": "cepJLl251iP0"
      },
      "source": [
        "titanic_df.isna().head(5)"
      ],
      "execution_count": null,
      "outputs": []
    },
    {
      "cell_type": "code",
      "metadata": {
        "id": "yE2IZaow2U6m"
      },
      "source": [
        "titanic_df.isna().sum()\n",
        "#agrregation 활용해서 결측치 보기"
      ],
      "execution_count": null,
      "outputs": []
    },
    {
      "cell_type": "code",
      "metadata": {
        "id": "qEu_NnKT2c6H"
      },
      "source": [
        "#fillna()\n",
        "#inplace 나 똑같이 변수지정을 다시해야 원본이 바뀜\n",
        "titanic_df['Age'] = titanic_df['Age'].fillna(titanic_df['Age'].mean()) #age라는 컬럼의 결측치를 평균으로 대체한다.\n",
        "titanic_df['Embarked'] = titanic_df['Embarked'].fillna('S')\n",
        "titanic_df.isna().sum() #결측치 개수 확인  "
      ],
      "execution_count": null,
      "outputs": []
    },
    {
      "cell_type": "markdown",
      "metadata": {
        "id": "7456CJhp3pMB"
      },
      "source": [
        "## apply lambda 식으로 데이터 가공"
      ]
    },
    {
      "cell_type": "markdown",
      "metadata": {
        "id": "aUrClH9R4S2Z"
      },
      "source": [
        "* lamda 란 간단하게\n",
        "* map()\n",
        "* apply() 활용해서 새로운 컬럼 만들기"
      ]
    },
    {
      "cell_type": "code",
      "metadata": {
        "id": "X0r2vbG23rx9"
      },
      "source": [
        "#lamda\n",
        "lambda_square = lambda x : x**2 #매개변수 : 함수 끝!!!\n",
        "print('3의 제곱은 : ',lambda_square(3))"
      ],
      "execution_count": null,
      "outputs": []
    },
    {
      "cell_type": "code",
      "metadata": {
        "id": "v6zQCLll5Ff0"
      },
      "source": [
        "#lambda로 여러개 값을 입력 인자로 사용해야 할 경우 map\n",
        "a = [1,2,3]\n",
        "squares = map(lambda x : x **2, a)\n",
        "list(squares)"
      ],
      "execution_count": null,
      "outputs": []
    },
    {
      "cell_type": "code",
      "metadata": {
        "id": "bT1Vp9_g5hKC"
      },
      "source": [
        "#apply()를 이용하면 df에도 lambda를 적용할 수 있다.\n",
        "titanic_df['Name_len'] = titanic_df['Name'].apply(lambda x : len(x))\n",
        "titanic_df[['Name','Name_len']].head(5)"
      ],
      "execution_count": null,
      "outputs": []
    },
    {
      "cell_type": "code",
      "metadata": {
        "id": "hK5sWTtd6IE1"
      },
      "source": [
        "#좀더 응용해서 15세 이하는 child 아니면 adult로 바꿔보자.\n",
        "titanic_df['Child_Adult'] = titanic_df['Age'].apply(lambda x : 'Child' if x <= 15 else 'Adult')\n",
        "#if 에 해다아면 child를 아니면 adult # x는 모든 age컬럼에 있는 데이터 이다.\n",
        "titanic_df[['Age','Child_Adult']].head(10)"
      ],
      "execution_count": null,
      "outputs": []
    },
    {
      "cell_type": "code",
      "metadata": {
        "id": "VTdIzXZ_6_N7"
      },
      "source": [
        "#lambda는 elif 가 적용이 안된다 그렇다면 조건이 두개 이상이라면? else 뒤에 ()를 내포해서 또 if else 를 해야한다\n",
        "# 15 이하 child , 15< <=60 adult , 그이상 elderly로 구분해보자.\n",
        "titanic_df['Age_cat'] = titanic_df['Age'].apply(lambda x : 'Child' if x <= 15 else ('Adult' if x <= 60 else 'Elderly'))\n",
        "titanic_df['Age_cat'].value_counts()"
      ],
      "execution_count": null,
      "outputs": []
    },
    {
      "cell_type": "code",
      "metadata": {
        "id": "jEhtNWtm8Arl"
      },
      "source": [
        "#세분화 할게 너무많다면 lambda는 너무 불편하다. def 를 지정해서 활용하는 것이 더 좋다.\n",
        "# 5 이하 baby, 12 이하 child, 25이하 student, 45 이하 young adult, 65 이하 adult, 그이상 elderly 라고 내가 정할것임.\n",
        "def get_category(age) :\n",
        "  cat = ''\n",
        "  if age <= 5 :\n",
        "    cat = 'baby'\n",
        "  elif age <= 12 :\n",
        "    cat = 'child'\n",
        "  elif age <= 25 :\n",
        "    cat = 'student'\n",
        "  elif age <= 45 :\n",
        "    cat = 'young adult'\n",
        "  else :\n",
        "    cat = 'elderly' #adult 빼먹었지만 걍 보자.\n",
        "  return cat\n",
        "\n",
        "titanic_df['Age_cat']= titanic_df['Age'].apply(lambda x : get_category(x)) #나이별로 구분해주는 함수를 lambda에 가져다가 쓴다.\n",
        "titanic_df[['Age','Age_cat']].head(10)"
      ],
      "execution_count": null,
      "outputs": []
    }
  ]
}