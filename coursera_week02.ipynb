{
  "nbformat": 4,
  "nbformat_minor": 0,
  "metadata": {
    "colab": {
      "name": "coursera_week02.ipynb",
      "provenance": [],
      "private_outputs": true,
      "collapsed_sections": [],
      "authorship_tag": "ABX9TyNUo046g+IwZ1wbeBbzgpoh",
      "include_colab_link": true
    },
    "kernelspec": {
      "name": "python3",
      "display_name": "Python 3"
    }
  },
  "cells": [
    {
      "cell_type": "markdown",
      "metadata": {
        "id": "view-in-github",
        "colab_type": "text"
      },
      "source": [
        "<a href=\"https://colab.research.google.com/github/DONGGI-KIM/ML/blob/main/coursera_week02.ipynb\" target=\"_parent\"><img src=\"https://colab.research.google.com/assets/colab-badge.svg\" alt=\"Open In Colab\"/></a>"
      ]
    },
    {
      "cell_type": "code",
      "metadata": {
        "id": "17M5oA3SBqaC"
      },
      "source": [
        "#hadamard product # (A.*B) 를 파이썬에서\n",
        "import numpy as np"
      ],
      "execution_count": null,
      "outputs": []
    },
    {
      "cell_type": "code",
      "metadata": {
        "id": "I3CjaeIZCKaw"
      },
      "source": [
        "A = np.arange(1,7).reshape(3,2)\n",
        "B = np.arange(4,10).reshape(3,2)\n",
        "print(A)\n",
        "print(B) #행렬 두개를 만들었음"
      ],
      "execution_count": null,
      "outputs": []
    },
    {
      "cell_type": "code",
      "metadata": {
        "id": "uX7y_LqUCX4R"
      },
      "source": [
        "A*B #간단하게 된다. #내적은 np.dot() "
      ],
      "execution_count": null,
      "outputs": []
    },
    {
      "cell_type": "code",
      "metadata": {
        "id": "8THuUWXdCkpZ"
      },
      "source": [
        "A**2"
      ],
      "execution_count": null,
      "outputs": []
    },
    {
      "cell_type": "code",
      "metadata": {
        "id": "C83WvKmtC1jR"
      },
      "source": [
        "np.reciprocal() # 1 ./A 모든 원소를 역수반환 #float type만 가능함"
      ],
      "execution_count": null,
      "outputs": []
    },
    {
      "cell_type": "code",
      "metadata": {
        "id": "8ax18MK8DNpM"
      },
      "source": [
        "A2 = A.astype(dtype = 'float64')"
      ],
      "execution_count": null,
      "outputs": []
    },
    {
      "cell_type": "code",
      "metadata": {
        "id": "-LXVp-hSDqHI"
      },
      "source": [
        "np.reciprocal(A2) #type 변화하면 된다."
      ],
      "execution_count": null,
      "outputs": []
    },
    {
      "cell_type": "markdown",
      "metadata": {
        "id": "_XNPy4TjEV7p"
      },
      "source": [
        "https://codetorial.net/numpy/functions/index.html"
      ]
    },
    {
      "cell_type": "markdown",
      "metadata": {
        "id": "3NeIyT-KEW5R"
      },
      "source": [
        "여기 numpy 다 있어서 따라하면 된다."
      ]
    },
    {
      "cell_type": "code",
      "metadata": {
        "id": "1BxywwBq6wj0"
      },
      "source": [
        "A + B"
      ],
      "execution_count": null,
      "outputs": []
    },
    {
      "cell_type": "code",
      "metadata": {
        "id": "YfVhQahAE_Hb"
      },
      "source": [
        "A + 1 #요소별 덧셈"
      ],
      "execution_count": null,
      "outputs": []
    },
    {
      "cell_type": "code",
      "metadata": {
        "id": "pkM260if5tpF"
      },
      "source": [
        "A ** 2"
      ],
      "execution_count": null,
      "outputs": []
    },
    {
      "cell_type": "code",
      "metadata": {
        "id": "hp10MeOVFACJ"
      },
      "source": [
        "transpose_mat = np.transpose(A)\n",
        "transpose_mat"
      ],
      "execution_count": null,
      "outputs": []
    },
    {
      "cell_type": "code",
      "metadata": {
        "id": "50AS3u29FKsY"
      },
      "source": [
        "np.amax(A)"
      ],
      "execution_count": null,
      "outputs": []
    },
    {
      "cell_type": "code",
      "metadata": {
        "id": "fzGuPHEOFnEB"
      },
      "source": [
        "np.max(A, axis = 1)"
      ],
      "execution_count": null,
      "outputs": []
    },
    {
      "cell_type": "code",
      "metadata": {
        "id": "gt2d6V3-GCLh"
      },
      "source": [
        "max_mat = np.argmax(A, axis = 1)\n",
        "max_mat"
      ],
      "execution_count": null,
      "outputs": []
    },
    {
      "cell_type": "code",
      "metadata": {
        "id": "JNp2JDBJIZMI"
      },
      "source": [
        "#column 별 최대값 뽑기 ndarray에서 "
      ],
      "execution_count": null,
      "outputs": []
    },
    {
      "cell_type": "markdown",
      "metadata": {
        "id": "iMXFCme0a4tt"
      },
      "source": [
        "## assignment"
      ]
    },
    {
      "cell_type": "markdown",
      "metadata": {
        "id": "sOenrQ2ca9eL"
      },
      "source": [
        "####warmup excercise"
      ]
    },
    {
      "cell_type": "code",
      "metadata": {
        "id": "1SGsUkHtYJBX"
      },
      "source": [
        "# 5,5 단위행렬 만들기\n",
        "def warmUpExercise(number):\n",
        "  A = np.eye(number)\n",
        "  return A\n",
        "\n",
        "print(warmUpExercise(5))"
      ],
      "execution_count": null,
      "outputs": []
    },
    {
      "cell_type": "markdown",
      "metadata": {
        "id": "JFZbm4nlbtxr"
      },
      "source": [
        "### ex01"
      ]
    },
    {
      "cell_type": "code",
      "metadata": {
        "id": "9ArE3sxmbson"
      },
      "source": [
        "from sklearn.linear_model import LinearRegression\n",
        "import matplotlib as mpl\n",
        "import matplotlib.pyplot as plt \n",
        "import numpy as np\n",
        "import pandas as pd\n",
        "from google.colab import drive\n",
        "drive.mount('/content/drive')\n",
        "filepath = '/content/drive/My Drive/머신러닝 연습/앤드류응 + 파이썬 머신러닝 완벽 가이드/ex1data1.txt'\n",
        "data = np.loadtxt(filepath, delimiter=\",\")\n",
        "X = data[:,0:1] #2차원 배열로 해놓는것을 잊지 말기.\n",
        "y = data[:,1:2]\n",
        "m = len(y)"
      ],
      "execution_count": null,
      "outputs": []
    },
    {
      "cell_type": "code",
      "metadata": {
        "id": "lcxvULWn9C42"
      },
      "source": [
        "X"
      ],
      "execution_count": null,
      "outputs": []
    },
    {
      "cell_type": "markdown",
      "metadata": {
        "id": "5ruYRnM1l5di"
      },
      "source": [
        "## plotdata"
      ]
    },
    {
      "cell_type": "code",
      "metadata": {
        "id": "uyT60qZ7ghYR"
      },
      "source": [
        "def plotData(X, y):\n",
        "  plt.plot(X,y,'r.')\n",
        "  plt.xlabel('Population of City in 10,000s')\n",
        "  plt.ylabel('Profit in $10,000s')\n",
        "  return plt.show()\n",
        "\n",
        "print(plotData(X,y))"
      ],
      "execution_count": null,
      "outputs": []
    },
    {
      "cell_type": "markdown",
      "metadata": {
        "id": "VZTtCYWNJT-Z"
      },
      "source": [
        "## 싸이킷런으로 일단 완성해놓자"
      ]
    },
    {
      "cell_type": "code",
      "metadata": {
        "id": "e52uojMU7NDe"
      },
      "source": [
        "model = LinearRegression()\n",
        "model.fit(X=X,y=y)"
      ],
      "execution_count": null,
      "outputs": []
    },
    {
      "cell_type": "code",
      "metadata": {
        "id": "NTvWR6jj8nEd"
      },
      "source": [
        "profit = model.predict([[7]])\n",
        "profit"
      ],
      "execution_count": null,
      "outputs": []
    },
    {
      "cell_type": "code",
      "metadata": {
        "id": "OrcQb_pD9d7b"
      },
      "source": [
        "population = X\n",
        "profit = model.predict(population)\n",
        "plt.plot(population,y,'r.')\n",
        "plt.plot(population,profit, 'b-')\n",
        "plt.xlabel('Population of City in 10,000s')\n",
        "plt.ylabel('Profit in $10,000s')\n",
        "plt.show()"
      ],
      "execution_count": null,
      "outputs": []
    },
    {
      "cell_type": "markdown",
      "metadata": {
        "id": "zOBgqaeol4Mq"
      },
      "source": [
        "## 내가 직접 알고리즘을 만들자! cost and gradient descent"
      ]
    },
    {
      "cell_type": "code",
      "metadata": {
        "id": "l_9hFGXOz-DA"
      },
      "source": [
        "# X0 만들기\n",
        "X = data[:,0:1]\n",
        "y = data[:,1:2]\n",
        "m = len(y)\n",
        "X_df = pd.DataFrame(X)\n",
        "X_df['1'] = 1\n",
        "X_df = X_df[['1',0]] #1이 먼저나오게 바꾸기\n",
        "X = X_df.values\n",
        "X"
      ],
      "execution_count": null,
      "outputs": []
    },
    {
      "cell_type": "markdown",
      "metadata": {
        "id": "XWYjHNZKFHHD"
      },
      "source": [
        "## 초기 cost function"
      ]
    },
    {
      "cell_type": "code",
      "metadata": {
        "id": "SOaCW12LFGWw"
      },
      "source": [
        "theta = np.zeros((2,1))\n",
        "X_1 = np.square(np.dot(X,theta) - y)\n",
        "cost_j = np.sum(X_1)/(2*m)\n",
        "print(cost_j)"
      ],
      "execution_count": null,
      "outputs": []
    },
    {
      "cell_type": "markdown",
      "metadata": {
        "id": "Js84PwOUJn16"
      },
      "source": [
        "## 완성된 알고리즘"
      ]
    },
    {
      "cell_type": "code",
      "metadata": {
        "id": "GmfvXJvdip8D"
      },
      "source": [
        "#num_iters 만큼 반복!\n",
        "#cost_j = theta 0으로 구하고\n",
        "#theta update\n",
        "def gradientDescent(X, y, theta, alpha, num_iters):\n",
        "  global m #밖에서 가져옴\n",
        "  #시작\n",
        "  for i in range(num_iters) :#주어짐 \n",
        "    \n",
        "    X_t = np.transpose(np.dot(X,theta) - y) #계산위해 transpose #1,1 나옴  \n",
        "    X_1 = np.square(np.dot(X,theta) - y) #총합계산 #m,1 행렬 의 제곱\n",
        "    X_2 = np.dot(X_t,X[:,0:1]) #쎄타 관련 \n",
        "    X_3 = np.dot(X_t,X[:,1:2])\n",
        "    \n",
        "    cost_j = np.sum(X_1)/(2*m) #공식\n",
        "    theta[0,0] = theta[0,0] - alpha*(X_2.sum()) /m #theta 변환 #행렬 내적 1,1 나옴\n",
        "    theta[1,0] = theta[1,0] - alpha*(X_3.sum()) /m\n",
        "  return cost_j\n",
        "\n",
        "print(gradientDescent(X,y, np.zeros((2,1)),0.01,10000)) #안돌아가 시브레"
      ],
      "execution_count": null,
      "outputs": []
    },
    {
      "cell_type": "markdown",
      "metadata": {
        "id": "HfymFPT0E1DK"
      },
      "source": [
        "## theta 값을 확인해 보자"
      ]
    },
    {
      "cell_type": "code",
      "metadata": {
        "id": "EQW0pDYAAwlQ"
      },
      "source": [
        "#num_iters 만큼 반복!\n",
        "#cost_j = theta 0으로 구하고\n",
        "#theta update\n",
        "def gradientDescent(X, y, theta, alpha, num_iters):\n",
        "  global m #밖에서 가져옴\n",
        "  #시작\n",
        "  for i in range(num_iters) :#주어짐 \n",
        "    \n",
        "    X_t = np.transpose(np.dot(X,theta) - y) #계산위해 transpose #1,1 나옴  \n",
        "    X_1 = np.square(np.dot(X,theta) - y) #총합계산 #m,1 행렬 의 제곱\n",
        "    X_2 = np.dot(X_t,X[:,0:1]) #쎄타 관련 \n",
        "    X_3 = np.dot(X_t,X[:,1:2])\n",
        "    \n",
        "    cost_j = np.sum(X_1)/(2*m) #공식\n",
        "    theta[0,0] = theta[0,0] - alpha*(X_2.sum()) /m #theta 변환 #행렬 내적 1,1 나옴\n",
        "    theta[1,0] = theta[1,0] - alpha*(X_3.sum()) /m\n",
        "  return theta[0,0],theta[1,0]\n",
        "\n",
        "print(gradientDescent(X,y, np.zeros((2,1)),0.01,10000)) #안돌아가 시브레\n",
        "#상당히 유사한 결과"
      ],
      "execution_count": null,
      "outputs": []
    },
    {
      "cell_type": "markdown",
      "metadata": {
        "id": "6p0AltV6E4qS"
      },
      "source": [
        "## debug"
      ]
    },
    {
      "cell_type": "code",
      "metadata": {
        "id": "_AaUMWnGEmb3"
      },
      "source": [
        "def gradientDescent(X, y, theta, alpha, num_iters):\n",
        "  global m #밖에서 가져옴\n",
        "  #시작\n",
        "  for i in range(num_iters) :#주어짐 \n",
        "    \n",
        "    X_t = np.transpose(np.dot(X,theta) - y) #계산위해 transpose #1,1 나옴  \n",
        "    X_1 = np.square(np.dot(X,theta) - y) #총합계산 #m,1 행렬 의 제곱\n",
        "    X_2 = np.dot(X_t,X[:,0:1]) #쎄타 관련 \n",
        "    X_3 = np.dot(X_t,X[:,1:2])\n",
        "    \n",
        "    cost_j = np.sum(X_1)/(2*m) #공식\n",
        "    theta[0,0] = theta[0,0] - alpha*(X_2.sum()) /m #theta 변환 #행렬 내적 1,1 나옴\n",
        "    theta[1,0] = theta[1,0] - alpha*(X_3.sum()) /m\n",
        "  predict_profit1 = np.dot([[1,3.5]],theta) #인구수 35000 명일때 profit\n",
        "  predict_profit2 = np.dot([[1,7]],theta)\n",
        "  return predict_profit1,predict_profit2\n",
        "\n",
        "print(gradientDescent(X,y, np.zeros((2,1)),0.01,10000))\n",
        "#위에 사이킷런 사용한것과 답이같다."
      ],
      "execution_count": null,
      "outputs": []
    },
    {
      "cell_type": "markdown",
      "metadata": {
        "id": "CpkTE42pG5a5"
      },
      "source": [
        "## 그래프로 확인합시다."
      ]
    },
    {
      "cell_type": "code",
      "metadata": {
        "id": "Zk782hl6G4wz"
      },
      "source": [
        "def gradientDescent(X, y, theta, alpha, num_iters):\n",
        "  global m #밖에서 가져옴\n",
        "  #시작\n",
        "  for i in range(num_iters) :#주어짐 \n",
        "    \n",
        "    X_t = np.transpose(np.dot(X,theta) - y) #계산위해 transpose #1,1 나옴  \n",
        "    X_1 = np.square(np.dot(X,theta) - y) #총합계산 #m,1 행렬 의 제곱\n",
        "    X_2 = np.dot(X_t,X[:,0:1]) #쎄타 관련 \n",
        "    X_3 = np.dot(X_t,X[:,1:2])\n",
        "    \n",
        "    cost_j = np.sum(X_1)/(2*m) #공식\n",
        "    theta[0,0] = theta[0,0] - alpha*(X_2.sum()) /m #theta 변환 #행렬 내적 1,1 나옴\n",
        "    theta[1,0] = theta[1,0] - alpha*(X_3.sum()) /m\n",
        "  plt.plot(X[:,1:2],y,'r.')                    \n",
        "  plt.plot(X[:,1:2],np.dot(X,theta),'b-')\n",
        "  plt.xlabel('Population of City in 10,000s')\n",
        "  plt.ylabel('Profit in $10,000s')\n",
        "  return plt.show()\n",
        "print(gradientDescent(X,y, np.zeros((2,1)),0.01,10000))\n",
        "\n",
        "#사이킷런으로 활용한것과 똑같다."
      ],
      "execution_count": null,
      "outputs": []
    }
  ]
}